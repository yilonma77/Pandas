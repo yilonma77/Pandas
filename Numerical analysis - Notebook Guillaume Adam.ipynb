{
 "cells": [
  {
   "cell_type": "code",
   "execution_count": 1,
   "id": "529cf5a6",
   "metadata": {},
   "outputs": [],
   "source": [
    "import numpy as np\n",
    "import numpy.random as npr\n",
    "import matplotlib.pyplot as plt \n",
    "from numpy.linalg import cholesky\n",
    "from scipy.stats import norm\n",
    "import scipy.stats as sc\n",
    "import scipy\n",
    "from tabulate import tabulate\n",
    "import pandas as pd"
   ]
  },
  {
   "cell_type": "markdown",
   "id": "8abfbfb0",
   "metadata": {},
   "source": [
    "# Exercise 1\n",
    "### 1.4"
   ]
  },
  {
   "cell_type": "code",
   "execution_count": 2,
   "id": "e724b903",
   "metadata": {},
   "outputs": [],
   "source": [
    "def Asian_Call_MC_BS(S0, K, r, T, sigma, N, n):\n",
    "    #S0 spot price\n",
    "    #K strike\n",
    "    #r interest rate\n",
    "    #T maturity\n",
    "    #N the sample size of Monte Carlo\n",
    "    #n step number of the uniform time grid\n",
    "    \n",
    "    G = npr.normal(size=(N,n)) #to create Gaussian variables\n",
    "    step=T/n #uniform time grid\n",
    "    \n",
    "    Log_returns=(r-sigma**2/2)*step + sigma *np.sqrt(step)*G\n",
    "    Log_returns_0=np.concatenate((np.ones((N,1))*np.log(S0),Log_returns), axis=1)\n",
    "    Log_path=np.cumsum(Log_returns_0,axis=1)\n",
    "    S_path=np.exp(Log_path)\n",
    "    \n",
    "    \n",
    "    S_bar=np.mean(S_path[:,:n],axis=1) # vector of n independent copies of the Riemann approximation of the integral\n",
    "    \n",
    "    #payoff w/o control variates\n",
    "    payoff=np.exp(-r*T)*np.maximum(S_bar-K,0)\n",
    "    \n",
    "    #calculate control variate (CV1) or Y and its expected value with explicit formula\n",
    "    integral = np.sum(Log_path[:, 1:], axis = 1)/n\n",
    "    Y = np.exp(-r*T) * np.sum(Log_path[:,:n],axis=1)/n\n",
    "    #E_Y = S0*np.exp((r+sigma**2/6)*-T/2)\n",
    "    CV1 = np.cov(payoff,Y)[0,1]/np.var(Y)\n",
    "    coefficient_Y=np.cov(payoff,Y)[0,1]/np.var(Y)\n",
    "\n",
    "    #calculate control variate (CV2) or Z and its expected value with explicit\n",
    "    \n",
    "    d2= 1/(sigma*np.sqrt(T/3))*(np.log(S0/K)+(r/2-sigma**2/4)*T)\n",
    "    d1= 1/(sigma*np.sqrt(T/3))*(np.log(S0/K)+(r/2-sigma**2/4)*T)+sigma*np.sqrt(T/3)\n",
    "    Z = np.exp(-r*T) * np.maximum(np.exp(integral)-K,0)\n",
    "    #E_Z = S0*np.exp((r+sigma**2/6)*-T/2)*cdf(d1)-K*np.exp(-r*T)*cdf(d2)\n",
    "    CV2 = np.cov(payoff,Z)[0,1]/np.var(Z)\n",
    "    coefficient_Z=np.cov(payoff,Z)[0,1]/np.var(Z)\n",
    "    \n",
    "    #payoff w/ control variate CV1\n",
    "    payoff_CV1=payoff-coefficient_Y*(Y-np.mean(Y))\n",
    "    #payoff w/ control variate CV2\n",
    "    payoff_CV2=payoff-coefficient_Z*(Z-np.mean(Z))\n",
    "    \n",
    "    # Monte Carlo results\n",
    "    MC_price=np.mean(payoff)\n",
    "    MC_price_CV1=np.mean(payoff_CV1)\n",
    "    MC_price_CV2=np.mean(payoff_CV2)\n",
    "    \n",
    "    #Error\n",
    "    MC_var=np.var(payoff)#1.96*np.std(payoff)/np.sqrt(N)\n",
    "    MC_var_CV1=np.var(payoff_CV1)#1.96*np.std(payoff_CV1)/np.sqrt(N)\n",
    "    MC_var_CV2=np.var(payoff_CV2)#1.96*np.std(payoff_CV2)/np.sqrt(N)\n",
    "    \n",
    "    #Confidence intervals\n",
    "    MC_UP=np.mean(payoff)+1.96*np.std(payoff)/np.sqrt(N)\n",
    "    MC_DOWN=np.mean(payoff)-1.96*np.std(payoff)/np.sqrt(N)\n",
    "    MC_CV1_UP=np.mean(MC_price_CV1)+1.96*np.std(payoff_CV1)/np.sqrt(N)\n",
    "    MC_CV1_DOWN=np.mean(MC_price_CV1)-1.96*np.std(payoff_CV1)/np.sqrt(N)\n",
    "    MC_UP=np.mean(MC_price_CV2)+1.96*np.std(payoff_CV2)/np.sqrt(N)\n",
    "    MC_DOWN=np.mean(MC_price_CV2)-1.96*np.std(payoff_CV2)/np.sqrt(N)\n",
    "    \n",
    "    \n",
    "    return MC_price, MC_var, MC_UP, MC_DOWN, MC_price_CV1, MC_var_CV1, MC_CV1_UP, MC_CV1_DOWN, MC_price_CV2, MC_var_CV2, MC_UP, MC_DOWN"
   ]
  },
  {
   "cell_type": "code",
   "execution_count": 3,
   "id": "19b70ba0",
   "metadata": {},
   "outputs": [
    {
     "name": "stdout",
     "output_type": "stream",
     "text": [
      "Price with MC: 5.536523759544286 | Variance: 61.766818409749\n",
      "Price with Control Variate Y: 5.536523759544343 | Variance: 15.708832678906985\n",
      "Price with Control Variate Z: 5.536523759544286 | Variance: 0.04178740692359711\n",
      "\n",
      "\n",
      "|   Price |      Error |   CI_UP |   CI_DOWN |\n",
      "|---------+------------+---------+-----------|\n",
      "| 5.53652 | 61.7668    | 5.53779 |   5.53526 |\n",
      "| 5.53652 | 15.7088    | 5.56109 |   5.51196 |\n",
      "| 5.53652 |  0.0417874 | 5.53779 |   5.53526 |\n"
     ]
    }
   ],
   "source": [
    "S0 = 100\n",
    "K = 100\n",
    "r = 0.04\n",
    "T = 1\n",
    "sigma = 0.2\n",
    "N = 100000\n",
    "n = 365\n",
    "\n",
    "Results = Asian_Call_MC_BS(S0, K, r, T, sigma, N, n)\n",
    "MC = Results[0:4]\n",
    "MC_CV1 = Results[4:8]\n",
    "MC_CV2 = Results[8:12]\n",
    "\n",
    "print(f'Price with MC: {MC[0]} | Variance: {MC[1]}')\n",
    "print(f'Price with Control Variate Y: {MC_CV1[0]} | Variance: {MC_CV1[1]}')\n",
    "print(f'Price with Control Variate Z: {MC_CV2[0]} | Variance: {MC_CV2[1]}\\n\\n')\n",
    "\n",
    "print(tabulate([list(MC), list(MC_CV1), list(MC_CV2)], headers=['Price','Error','CI_UP','CI_DOWN'], tablefmt='orgtbl'))"
   ]
  },
  {
   "cell_type": "markdown",
   "id": "b9a4c8ca",
   "metadata": {},
   "source": [
    "### 1.5"
   ]
  },
  {
   "cell_type": "code",
   "execution_count": 4,
   "id": "09539cf9",
   "metadata": {},
   "outputs": [],
   "source": [
    "def Vega_Asian_Option(S0, K, r, T, sigma, n, N):\n",
    "    #S0 spot price\n",
    "    #K strike\n",
    "    #r interest rate\n",
    "    #T maturity\n",
    "    #N the sample size of Monte Carlo\n",
    "    #n step number of the uniform time grid\n",
    "    dt = T / N #time grid\n",
    "    St = S0 * np.ones((n, N))\n",
    "    \n",
    "    #init\n",
    "    PathWiseDerivatives = np.zeros((n, N))\n",
    "    LogLikelihoodRatio = np.zeros(n)\n",
    "    \n",
    "    for j in range(1, N):\n",
    "        tj = j * dt\n",
    "        Z = np.random.normal(size=n)\n",
    "        St[:, j] = St[:, j-1] * np.exp((r - 0.5 * sigma**2) * (dt) + sigma * np.sqrt(dt) * Z)\n",
    "        PathWiseDerivatives[:, j] = St[:, j] * [1 if x > K else 0 for x in St[:, j]] *  ( ( np.log(St[:, j] / St[:, 0]) - (r + sigma**2/2) * tj ) / sigma )\n",
    "        LogLikelihoodRatio += (Z**2 - 1) / sigma - Z * np.sqrt(dt)\n",
    "    meanPathWiseDerivatives = np.mean(PathWiseDerivatives, axis=1)\n",
    "    meanSt = np.mean(St, axis=1)\n",
    "    payoff_likelihood = list(map(lambda x: max(x - K, 0), meanSt)) * LogLikelihoodRatio\n",
    "    payoff_pathwise = list(map(lambda x: 1 if x > K else 0, meanSt)) * meanPathWiseDerivatives\n",
    "    vega_pathwise = np.exp(-r * T) * payoff_pathwise\n",
    "    vega_likelihood = np.exp(-r * T) * payoff_likelihood\n",
    "    return np.mean(vega_pathwise), 1.96 * np.std(vega_pathwise) / np.sqrt(N), np.mean(vega_likelihood), 1.96 * np.std(vega_likelihood) / np.sqrt(N)"
   ]
  },
  {
   "cell_type": "code",
   "execution_count": 5,
   "id": "b6c8840a",
   "metadata": {},
   "outputs": [
    {
     "name": "stdout",
     "output_type": "stream",
     "text": [
      "Vega with path-wise derivative: 23.601242094811727 | Error: 16.24362464487452\n",
      "Vega with log-Likelihood: 20.626133004555392 | Error: 135.99736307962758\n",
      "\n",
      "+----------------+---------+----------+\n",
      "| Method         |    Vega |    Error |\n",
      "+================+=========+==========+\n",
      "| Path-Wise      | 23.6012 |  16.2436 |\n",
      "+----------------+---------+----------+\n",
      "| Log-Likelihood | 20.6261 | 135.997  |\n",
      "+----------------+---------+----------+\n"
     ]
    }
   ],
   "source": [
    "S0 = 100\n",
    "K = 100\n",
    "r = 0.04\n",
    "T = 1\n",
    "sigma = 0.2\n",
    "n = 100000\n",
    "N = 20\n",
    "PW_Vega, PW_Error, LL_Vega, LL_Error = Vega_Asian_Option(S0, K, r, T, sigma, n, N)\n",
    "\n",
    "print(f'Vega with path-wise derivative: {PW_Vega} | Error: {PW_Error}')\n",
    "print(f'Vega with log-Likelihood: {LL_Vega} | Error: {LL_Error}\\n')\n",
    "\n",
    "print(tabulate([list(['Path-Wise', PW_Vega, PW_Error]), list(['Log-Likelihood', LL_Vega, LL_Error])], headers=['Method', 'Vega','Error'], tablefmt=\"grid\"))"
   ]
  },
  {
   "cell_type": "markdown",
   "id": "5ce273d3",
   "metadata": {},
   "source": [
    "# Exercice 2\n",
    "### 2.2"
   ]
  },
  {
   "cell_type": "code",
   "execution_count": 6,
   "id": "023de1ec",
   "metadata": {},
   "outputs": [],
   "source": [
    "def MC_Delayed_European(S0, sigma, r, T, t1, lam, N):\n",
    "    #S0 spot price\n",
    "    #K Strike\n",
    "    #r interest rate\n",
    "    #t1 delayed start time\n",
    "    #T time to maturity\n",
    "    #sigma annualized volatility\n",
    "    #lam lambda\n",
    "    #N sample size\n",
    "    payoffs = np.zeros(N)\n",
    "    for j in range(0, N):\n",
    "        Z1 = np.random.normal(0,1)\n",
    "        S_t1 = S0 * np.exp( (r - sigma**2/2)*t1 + sigma*np.sqrt(t1)*Z1 )\n",
    "        K = lam * S_t1\n",
    "        \n",
    "        Z2 = np.random.normal(0,1)\n",
    "        S_t2 = S_t1 * np.exp( (r - sigma**2/2)*(T-t1) + sigma*np.sqrt(T-t1)*Z2 )\n",
    "        \n",
    "        payoffs[j] = np.maximum(S_t2 - K, 0) * np.exp(-r * T)\n",
    "    \n",
    "    payoff = np.mean(payoffs)\n",
    "    MC_error_call = 1.96 * np.std(payoffs) / np.sqrt(N)\n",
    "    CI_UP = payoff + 1.96 * np.std(payoff) / np.sqrt(N)\n",
    "    CI_DOWN = payoff - 1.96 * np.std(payoff) / np.sqrt(N)\n",
    "        \n",
    "    return payoff, MC_error_call, CI_UP, CI_DOWN"
   ]
  },
  {
   "cell_type": "code",
   "execution_count": 7,
   "id": "96986e35",
   "metadata": {},
   "outputs": [],
   "source": [
    "def European_Call_BS(S, K, sigma, r, T, t1):\n",
    "    d1 = 1 / (sigma*np.sqrt(T-t1)) * ( np.log(S/K) + (r + sigma**2/2) * (T-t1) )\n",
    "    d2 = 1 / (sigma*np.sqrt(T-t1)) * ( np.log(S/K) + (r - sigma**2/2) * (T-t1) )\n",
    "\n",
    "    true_price = S * sc.norm.cdf(d1) - K * sc.norm.cdf(d2) * np.exp(-r * (T-t1) )\n",
    "\n",
    "    return true_price"
   ]
  },
  {
   "cell_type": "code",
   "execution_count": 8,
   "id": "41be24d2",
   "metadata": {},
   "outputs": [],
   "source": [
    "def MC_Cond_Delayed_European(S0, sigma, r, T, t1, lam, N):\n",
    "    #S0 spot price\n",
    "    #K Strike\n",
    "    #r interest rate\n",
    "    #t1 delayed start time\n",
    "    #T time to maturity\n",
    "    #sigma annualized volatility\n",
    "    #lam lambda\n",
    "    #N sample size\n",
    "\n",
    "    payoffs = np.zeros(N)\n",
    "    for j in range(0, N):\n",
    "        Z1 = np.random.normal(0,1)\n",
    "        S_t1 = S0 * np.exp( (r - sigma**2/2)*t1 + sigma*np.sqrt(t1)*Z1 )\n",
    "        K = lam * S_t1\n",
    "        \n",
    "        payoffs[j] = np.exp(-r * t1) * European_Call_BS(S_t1, K, sigma, r, T, t1)\n",
    "        \n",
    "    payoff = np.mean(payoffs)\n",
    "    MC_error_call = 1.96 * np.std(payoffs) / np.sqrt(N)\n",
    "    CI_UP = payoff + 1.96 * np.std(payoff) / np.sqrt(N)\n",
    "    CI_DOWN = payoff - 1.96 * np.std(payoff) / np.sqrt(N)\n",
    "    \n",
    "    return payoff, MC_error_call, CI_UP, CI_DOWN"
   ]
  },
  {
   "cell_type": "code",
   "execution_count": 9,
   "id": "266caab6",
   "metadata": {},
   "outputs": [
    {
     "name": "stdout",
     "output_type": "stream",
     "text": [
      "Price with algorithm 1: 31.463686410222834 | Error: 0.31754686053427605 | CI_UP: 31.463686410222834 - CI_DOWN: 31.463686410222834\n",
      "\n",
      "Price with algorithm 2: 31.49208737850672 | Error: 0.059982168912944264 | CI_UP: 31.49208737850672 - CI_DOWN: 31.49208737850672\n",
      "\n",
      "Price with Black Scholes: 31.548194619572513\n",
      "\n",
      "| Method                |   Price | Error                | CI_UP              | CI_DOWN            |\n",
      "|-----------------------|---------|----------------------|--------------------|--------------------|\n",
      "| Algorithm 1           | 31.4637 | 0.31754686053427605  | 31.463686410222834 | 31.463686410222834 |\n",
      "| Algorithm 2           | 31.4921 | 0.059982168912944264 | 31.49208737850672  | 31.49208737850672  |\n",
      "| Explicit formula (BS) | 31.5482 | #                    | #                  | #                  |\n"
     ]
    }
   ],
   "source": [
    "S0 = 100\n",
    "r = 0.05\n",
    "T = 4\n",
    "t1 = T/4\n",
    "sigma = 0.3\n",
    "lam = 0.9\n",
    "N = 100000\n",
    "\n",
    "Algo1 = MC_Delayed_European(S0, sigma, r, T, t1, lam, N)\n",
    "Algo2 = MC_Cond_Delayed_European(S0, sigma, r, T, t1, lam, N)\n",
    "BS = S0 * European_Call_BS(1, lam, sigma, r, T, t1)\n",
    "\n",
    "print(f'Price with algorithm 1: {Algo1[0]} | Error: {Algo1[1]} | CI_UP: {Algo1[2]} - CI_DOWN: {Algo1[3]}\\n')\n",
    "print(f'Price with algorithm 2: {Algo2[0]} | Error: {Algo2[1]} | CI_UP: {Algo2[2]} - CI_DOWN: {Algo2[3]}\\n')\n",
    "print(f'Price with Black Scholes: {BS}\\n')\n",
    "\n",
    "print(tabulate([['Algorithm 1'] + list(Algo1), ['Algorithm 2'] + list(Algo2), ['Explicit formula (BS)'] + list([BS,'#','#','#'])], headers=['Method', 'Price','Error','CI_UP','CI_DOWN'], tablefmt='github'))"
   ]
  },
  {
   "cell_type": "markdown",
   "id": "5576d3c3",
   "metadata": {},
   "source": [
    "# Exercise 3\n",
    "### 3.1"
   ]
  },
  {
   "cell_type": "code",
   "execution_count": 10,
   "id": "27d2ed17",
   "metadata": {},
   "outputs": [],
   "source": [
    "regression_basis = {\n",
    "    0: lambda X: np.array(X**0).reshape(-1, 1),\n",
    "    1: lambda X: np.column_stack((np.ones_like(X), 1 - X)),\n",
    "    2: lambda X: np.column_stack((np.ones_like(X), 1 - X, 0.5 * (2 - 4 * X + X**2))),\n",
    "    3: lambda X: np.column_stack((np.ones_like(X), 1 - X, 0.5 * (2 - 4 * X + X**2), 1/6 * (6 - 18 * X + 9 * X**2 - X**3))),\n",
    "}\n",
    "\n",
    "def Longstaff_Schwartz_Algorithm(S0, K, r, T, N, n, basis_size):\n",
    "    #S0 spot price\n",
    "    #K Strike\n",
    "    #r interest rate\n",
    "    #T time to maturity\n",
    "    #sigma vol\n",
    "    #N sample size\n",
    "    dt = T / n # uniform time grid\n",
    "    G = np.random.normal(size=(N, n))\n",
    "    Log_returns = (r - sigma**2/2)*dt + sigma*np.sqrt(dt)*G\n",
    "    Log_returns_0 = np.concatenate((np.ones((N,1))*np.log(S0), Log_returns), axis = 1) \n",
    "    Log_path = np.cumsum(Log_returns_0, axis = 1)\n",
    "    Spath = np.exp(Log_path)\n",
    "    discountVect = (np.exp(-r*dt*np.arange(1,n+1,1)))\n",
    "    exercise_boundary = [K]\n",
    "\n",
    "\n",
    "    CashFlow = np.maximum(0, K-Spath[:, -1])\n",
    "    for i in range(n-1, -1, -1): #backward loop\n",
    "        index_in_money = np.maximum(0,K-Spath[:, i]) > 0 \n",
    "        X = Spath[index_in_money, i] #Consider only the in-money paths, like in-class example\n",
    "        XData = np.vstack(regression_basis[basis_size](X))\n",
    "\n",
    "        YData = discountVect[0] * CashFlow[index_in_money]\n",
    "        alpha = np.linalg.lstsq(XData, YData, rcond = -1)[0]  #Linear matrix equation [0] for coeffs\n",
    "\n",
    "        ContinuationValue = XData @ alpha\n",
    "        index_Exercise = np.maximum(0,K-X)\n",
    "        #update cash flow\n",
    "        CashFlow[index_in_money] = np.where(index_Exercise >= ContinuationValue, index_Exercise, CashFlow[index_in_money]* discountVect[0])\n",
    "\n",
    "        if (basis_size == 3) & (len(X[index_Exercise >= ContinuationValue]) > 0): \n",
    "            exercise_boundary.append(np.max(X[index_Exercise >= ContinuationValue]))\n",
    "\n",
    "        LS_payoff = discountVect[0] * ( np.sum(CashFlow[:,]) / N )\n",
    "        LS_error = np.std(discountVect[0] * CashFlow ) / np.sqrt(N) \n",
    "        CI_UP, CI_DOWN = LS_payoff + 1.96 * LS_error, LS_payoff - 1.96 * LS_error\n",
    "\n",
    "    return LS_payoff, LS_error, CI_UP, CI_DOWN, exercise_boundary"
   ]
  },
  {
   "cell_type": "code",
   "execution_count": 11,
   "id": "049a833d",
   "metadata": {
    "scrolled": false
   },
   "outputs": [
    {
     "name": "stdout",
     "output_type": "stream",
     "text": [
      "|   Basis Size |   Price |     Error |   CI_UP |   CI_DOWN |\n",
      "|--------------+---------+-----------+---------+-----------|\n",
      "|            0 | 11.2722 | 0.0175657 | 11.3066 |   11.2378 |\n",
      "|            1 | 12.0203 | 0.0330978 | 12.0851 |   11.9554 |\n",
      "|            2 | 12.1602 | 0.0317252 | 12.2223 |   12.098  |\n",
      "|            3 | 12.1859 | 0.0318227 | 12.2483 |   12.1236 |\n"
     ]
    }
   ],
   "source": [
    "S0 = 90\n",
    "K = 100\n",
    "r = 0.03\n",
    "sigma = 0.2 \n",
    "T=1\n",
    "n = 75\n",
    "N = 75000\n",
    "bounds = []\n",
    "df = pd.DataFrame()\n",
    "for b_size in regression_basis.keys():\n",
    "    Results = Longstaff_Schwartz_Algorithm(S0, K, r, T, N, n, b_size)\n",
    "    df[b_size] = Results[:4]\n",
    "    bounds.append(Results[4])\n",
    "\n",
    "bounds = bounds[3:][0]\n",
    "\n",
    "print(tabulate(df.T, headers=['Basis Size', 'Price','Error','CI_UP','CI_DOWN'], tablefmt='orgtbl'))"
   ]
  },
  {
   "cell_type": "markdown",
   "id": "4203cb1a",
   "metadata": {},
   "source": [
    "## 3.2"
   ]
  },
  {
   "cell_type": "code",
   "execution_count": 12,
   "id": "10f5a920",
   "metadata": {},
   "outputs": [
    {
     "data": {
      "image/png": "[encoded data removed]",
      "text/plain": [
       "<Figure size 1300x500 with 1 Axes>"
      ]
     },
     "metadata": {},
     "output_type": "display_data"
    }
   ],
   "source": [
    "x = np.linspace(0,T,len(bounds))\n",
    "y = np.flip(bounds)\n",
    "\n",
    "plt.figure(figsize=(13,5))\n",
    "plt.plot(x,y, color='dodgerblue', marker='*', lw=2)\n",
    "plt.axhline(K, color='black', ls='--')\n",
    "plt.xlabel('T')\n",
    "plt.ylabel('Exercice boundary')\n",
    "middle_x = 2*x[len(x) // 3]\n",
    "plt.annotate(\"K\", xy=(1, K), xytext=(middle_x, K*0.95),\n",
    "             arrowprops=dict(facecolor='black', lw=.05,  linestyle='dotted'))\n",
    "plt.title('Exercise boundary as a function of the date')\n",
    "plt.show()"
   ]
  },
  {
   "cell_type": "markdown",
   "id": "f9f8ec0e",
   "metadata": {},
   "source": [
    "## 3.3"
   ]
  },
  {
   "cell_type": "raw",
   "id": "19bd0f17",
   "metadata": {},
   "source": [
    "First, simulate the price and then then Delta hedge, like in class\n",
    "Here, we don't have a closed formula for the Delta, let's go back to the original definition of Delta: first derivative of the Option with regards to the price \n",
    "Delta = ∂Bermudean_Price / ∂Spot"
   ]
  },
  {
   "cell_type": "code",
   "execution_count": 13,
   "id": "be33214a",
   "metadata": {},
   "outputs": [],
   "source": [
    "def SimulateHedging(S0, K, T, r, sigma, nPeriods, nSim):\n",
    "    dt = T/nPeriods\n",
    "    \n",
    "    #simulate random price of an asset\n",
    "    G = np.random.normal(size=(1,nPeriods))\n",
    "    step = T/n #uniform timegrid\n",
    "    log_returns = (r-sigma**2 / 2) * step + sigma * np.sqrt(step) * G\n",
    "    log_returns = np.concatenate( (np.ones((1,1))*np.log(S0), log_returns), axis=1 )\n",
    "    log_path = np.cumsum(log_returns, axis=1)\n",
    "    S_path = np.exp(log_path) #spot price of the asset along nPeriods of hedging\n",
    "    \n",
    "    Deltas = np.zeros(nPeriods)\n",
    "    Prices = np.zeros(nPeriods)\n",
    "    Prices[0] = Longstaff_Schwartz_Algorithm(S0, K, r, T, nSim, 1000, basis_size=3)[0]\n",
    "    \n",
    "    h=1e-2\n",
    "    \n",
    "    for period in range(1,nPeriods):\n",
    "        Spot = S_path[:,period] #Spot at period\n",
    "        Price_plus_H = Longstaff_Schwartz_Algorithm(Spot+h, K, r, (T-period*dt), nSim, 1000, basis_size=3)[0]\n",
    "        Price_minus_H = Longstaff_Schwartz_Algorithm(Spot-h, K, r, (T-period*dt), nSim, 1000, basis_size=3)[0] \n",
    "\n",
    "        Delta_new = (Price_plus_H - Price_minus_H) / (h*2)\n",
    "        \n",
    "        Price_new = Longstaff_Schwartz_Algorithm(Spot, K, r, (T-period*dt), nSim, n, basis_size=3)[0]\n",
    "\n",
    "        Deltas[period] = Delta_new\n",
    "        Prices[period] = Price_new\n",
    "        #print(Delta_new)\n",
    "        #print(Price_new)\n",
    "    return Deltas, Prices, S_path\n",
    "\n",
    "Deltas, Prices, Spots = SimulateHedging(90,100,1,0.04,0.2,100,100)\n",
    "\n",
    "pnl = np.diff(-Deltas) * np.diff(Spots[0][:-1])"
   ]
  },
  {
   "cell_type": "code",
   "execution_count": 14,
   "id": "883b047d",
   "metadata": {},
   "outputs": [
    {
     "data": {
      "image/png": "[encoded data removed]",
      "text/plain": [
       "<Figure size 640x480 with 1 Axes>"
      ]
     },
     "metadata": {},
     "output_type": "display_data"
    }
   ],
   "source": [
    "t_plot = np.linspace(0, T, len(pnl))\n",
    "plt.plot(t_plot, pnl, marker='o', linestyle='-', color='b') \n",
    "plt.xlabel('Time passage')\n",
    "plt.ylabel('P&L')\n",
    "plt.title('Algorithm that hedges the Bermudan option')\n",
    "plt.grid(True)\n",
    "plt.show()"
   ]
  }
 ],
 "metadata": {
  "kernelspec": {
   "display_name": "Python 3 (ipykernel)",
   "language": "python",
   "name": "python3"
  },
  "language_info": {
   "codemirror_mode": {
    "name": "ipython",
    "version": 3
   },
   "file_extension": ".py",
   "mimetype": "text/x-python",
   "name": "python",
   "nbconvert_exporter": "python",
   "pygments_lexer": "ipython3",
   "version": "3.9.18"
  }
 },
 "nbformat": 4,
 "nbformat_minor": 5
}
